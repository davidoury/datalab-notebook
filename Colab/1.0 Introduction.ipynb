{
  "nbformat": 4,
  "nbformat_minor": 0,
  "metadata": {
    "colab": {
      "name": "Introduction.ipynb",
      "version": "0.3.2",
      "provenance": [],
      "include_colab_link": true
    },
    "kernelspec": {
      "name": "python3",
      "display_name": "Python 3"
    }
  },
  "cells": [
    {
      "cell_type": "markdown",
      "metadata": {
        "id": "view-in-github",
        "colab_type": "text"
      },
      "source": [
        "<a href=\"https://colab.research.google.com/github/davidoury/datalab-notebook/blob/master/Colab/1.0%20Introduction.ipynb\" target=\"_parent\"><img src=\"https://colab.research.google.com/assets/colab-badge.svg\" alt=\"Open In Colab\"/></a>"
      ]
    },
    {
      "cell_type": "markdown",
      "metadata": {
        "id": "NpPX8OVM6Osn",
        "colab_type": "text"
      },
      "source": [
        "# Colab Introduction"
      ]
    },
    {
      "cell_type": "markdown",
      "metadata": {
        "id": "Kos5pW_e6TYh",
        "colab_type": "text"
      },
      "source": [
        "## Contents\n",
        "- Setup \n"
      ]
    },
    {
      "cell_type": "code",
      "metadata": {
        "id": "HJ0LwkhxwtaG",
        "colab_type": "code",
        "outputId": "e8f9255a-1619-4441-8972-0f83cbb3396d",
        "colab": {
          "base_uri": "https://localhost:8080/",
          "height": 34
        }
      },
      "source": [
        "%%writefile test.py\n",
        "x=4\n",
        "print('Set x =',x)"
      ],
      "execution_count": 0,
      "outputs": [
        {
          "output_type": "stream",
          "text": [
            "Overwriting test.py\n"
          ],
          "name": "stdout"
        }
      ]
    },
    {
      "cell_type": "code",
      "metadata": {
        "id": "HnZJbQjr-nGL",
        "colab_type": "code",
        "outputId": "7ea19150-3c32-47dc-ca6a-1f9d6c140aac",
        "colab": {
          "base_uri": "https://localhost:8080/",
          "height": 34
        }
      },
      "source": [
        "%run test.py"
      ],
      "execution_count": 0,
      "outputs": [
        {
          "output_type": "stream",
          "text": [
            "Set x = 4\n"
          ],
          "name": "stdout"
        }
      ]
    },
    {
      "cell_type": "code",
      "metadata": {
        "id": "u7VAJgi-ZikC",
        "colab_type": "code",
        "outputId": "285ca4a1-6af0-47bd-a819-d10505ab57e9",
        "colab": {
          "base_uri": "https://localhost:8080/",
          "height": 34
        }
      },
      "source": [
        "import nltk\n",
        "nltk.__version__"
      ],
      "execution_count": 0,
      "outputs": [
        {
          "output_type": "execute_result",
          "data": {
            "text/plain": [
              "'3.2.5'"
            ]
          },
          "metadata": {
            "tags": []
          },
          "execution_count": 28
        }
      ]
    },
    {
      "cell_type": "code",
      "metadata": {
        "id": "Lon1nodqZ3le",
        "colab_type": "code",
        "colab": {}
      },
      "source": [
        "%rm -fr openml-datasets"
      ],
      "execution_count": 0,
      "outputs": []
    },
    {
      "cell_type": "code",
      "metadata": {
        "id": "CT377bo7U4u6",
        "colab_type": "code",
        "outputId": "cd06a425-6233-4798-c85b-abadace2e265",
        "colab": {
          "base_uri": "https://localhost:8080/",
          "height": 102
        }
      },
      "source": [
        "%%sh \n",
        "git clone https://github.com/datasets/openml-datasets\n",
        "ls"
      ],
      "execution_count": 0,
      "outputs": [
        {
          "output_type": "stream",
          "text": [
            "datalab-notebooks\n",
            "openml-datasets\n",
            "sample_data\n"
          ],
          "name": "stdout"
        },
        {
          "output_type": "stream",
          "text": [
            "Cloning into 'openml-datasets'...\n",
            "Checking out files:  10% (37/356)   \rChecking out files:  11% (40/356)   \rChecking out files:  12% (43/356)   \rChecking out files:  13% (47/356)   \rChecking out files:  14% (50/356)   \rChecking out files:  15% (54/356)   \rChecking out files:  16% (57/356)   \rChecking out files:  17% (61/356)   \rChecking out files:  18% (65/356)   \rChecking out files:  19% (68/356)   \rChecking out files:  20% (72/356)   \rChecking out files:  21% (75/356)   \rChecking out files:  22% (79/356)   \rChecking out files:  23% (82/356)   \rChecking out files:  24% (86/356)   \rChecking out files:  25% (89/356)   \rChecking out files:  26% (93/356)   \rChecking out files:  27% (97/356)   \rChecking out files:  28% (100/356)   \rChecking out files:  29% (104/356)   \rChecking out files:  30% (107/356)   \rChecking out files:  31% (111/356)   \rChecking out files:  32% (114/356)   \rChecking out files:  33% (118/356)   \rChecking out files:  34% (122/356)   \rChecking out files:  35% (125/356)   \rChecking out files:  36% (129/356)   \rChecking out files:  37% (132/356)   \rChecking out files:  38% (136/356)   \rChecking out files:  39% (139/356)   \rChecking out files:  40% (143/356)   \rChecking out files:  41% (146/356)   \rChecking out files:  42% (150/356)   \rChecking out files:  43% (154/356)   \rChecking out files:  44% (157/356)   \rChecking out files:  44% (160/356)   \rChecking out files:  45% (161/356)   \rChecking out files:  46% (164/356)   \rChecking out files:  47% (168/356)   \rChecking out files:  48% (171/356)   \rChecking out files:  49% (175/356)   \rChecking out files:  50% (178/356)   \rChecking out files:  51% (182/356)   \rChecking out files:  52% (186/356)   \rChecking out files:  53% (189/356)   \rChecking out files:  54% (193/356)   \rChecking out files:  55% (196/356)   \rChecking out files:  56% (200/356)   \rChecking out files:  57% (203/356)   \rChecking out files:  58% (207/356)   \rChecking out files:  59% (211/356)   \rChecking out files:  60% (214/356)   \rChecking out files:  61% (218/356)   \rChecking out files:  62% (221/356)   \rChecking out files:  63% (225/356)   \rChecking out files:  64% (228/356)   \rChecking out files:  65% (232/356)   \rChecking out files:  66% (235/356)   \rChecking out files:  67% (239/356)   \rChecking out files:  68% (243/356)   \rChecking out files:  69% (246/356)   \rChecking out files:  70% (250/356)   \rChecking out files:  71% (253/356)   \rChecking out files:  72% (257/356)   \rChecking out files:  73% (260/356)   \rChecking out files:  74% (264/356)   \rChecking out files:  75% (267/356)   \rChecking out files:  76% (271/356)   \rChecking out files:  77% (275/356)   \rChecking out files:  78% (278/356)   \rChecking out files:  79% (282/356)   \rChecking out files:  80% (285/356)   \rChecking out files:  81% (289/356)   \rChecking out files:  82% (292/356)   \rChecking out files:  83% (296/356)   \rChecking out files:  84% (300/356)   \rChecking out files:  85% (303/356)   \rChecking out files:  86% (307/356)   \rChecking out files:  87% (310/356)   \rChecking out files:  88% (314/356)   \rChecking out files:  89% (317/356)   \rChecking out files:  90% (321/356)   \rChecking out files:  91% (324/356)   \rChecking out files:  92% (328/356)   \rChecking out files:  93% (332/356)   \rChecking out files:  94% (335/356)   \rChecking out files:  95% (339/356)   \rChecking out files:  96% (342/356)   \rChecking out files:  97% (346/356)   \rChecking out files:  98% (349/356)   \rChecking out files:  98% (350/356)   \rChecking out files:  99% (353/356)   \rChecking out files: 100% (356/356)   \rChecking out files: 100% (356/356), done.\n"
          ],
          "name": "stderr"
        }
      ]
    },
    {
      "cell_type": "code",
      "metadata": {
        "id": "mqrTbOqpYwsX",
        "colab_type": "code",
        "outputId": "bbec8653-de6d-4a52-fcd8-e9dd3c462c23",
        "colab": {
          "base_uri": "https://localhost:8080/",
          "height": 782
        }
      },
      "source": [
        "!ls openml-datasets/data"
      ],
      "execution_count": 0,
      "outputs": [
        {
          "output_type": "stream",
          "text": [
            "abalone\t\t\t\t  lymph\n",
            "adult\t\t\t\t  madelon\n",
            "airlines\t\t\t  MagicTelescope\n",
            "amazon-commerce-reviews\t\t  mammography\n",
            "anneal\t\t\t\t  mfeat-factors\n",
            "arrhythmia\t\t\t  mfeat-karhunen\n",
            "autos\t\t\t\t  mfeat-morphological\n",
            "autoUniv-au6-1000\t\t  mfeat-pixel\n",
            "bank-marketing\t\t\t  mfeat-zernike\n",
            "banknote-authentication\t\t  mozilla4\n",
            "Bioresponse\t\t\t  mushroom\n",
            "blood-transfusion-service-center  musk\n",
            "breast-cancer\t\t\t  nursery\n",
            "breast-w\t\t\t  oil_spill\n",
            "cardiotocography\t\t  one-hundred-plants-shape\n",
            "Click_prediction_small\t\t  one-hundred-plants-texture\n",
            "climate-model-simulation-crashes  optdigits\n",
            "cmc\t\t\t\t  page-blocks\n",
            "credit-approval\t\t\t  pc1\n",
            "credit-g\t\t\t  pc3\n",
            "diabetes\t\t\t  pendigits\n",
            "eeg-eye-state\t\t\t  phoneme\n",
            "electricity\t\t\t  profb\n",
            "fbis.wc\t\t\t\t  qsar-biodeg\n",
            "first-order-theorem-proving\t  Satellite\n",
            "gas-drift\t\t\t  satimage\n",
            "gina_agnostic\t\t\t  scene\n",
            "gina_prior2\t\t\t  segment\n",
            "glass\t\t\t\t  seismic-bumps\n",
            "haberman\t\t\t  semeion\n",
            "heart-statlog\t\t\t  sick\n",
            "hill-valley\t\t\t  sonar\n",
            "ilpd\t\t\t\t  soybean\n",
            "IMDB.drama\t\t\t  spambase\n",
            "ionosphere\t\t\t  spectrometer\n",
            "iris\t\t\t\t  SpeedDating\n",
            "isolet\t\t\t\t  steel-plates-fault\n",
            "jm1\t\t\t\t  tic-tac-toe\n",
            "kc1\t\t\t\t  vehicle\n",
            "kc2\t\t\t\t  vote\n",
            "kropt\t\t\t\t  wall-robot-navigation\n",
            "kr-vs-kp\t\t\t  waveform-5000\n",
            "letter\t\t\t\t  wdbc\n",
            "liver-disorders\t\t\t  yeast\n",
            "lung-cancer\n"
          ],
          "name": "stdout"
        }
      ]
    }
  ]
}